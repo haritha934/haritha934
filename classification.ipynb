{
  "nbformat": 4,
  "nbformat_minor": 0,
  "metadata": {
    "colab": {
      "name": "udemy_classifer.ipynb",
      "provenance": [],
      "collapsed_sections": []
    },
    "kernelspec": {
      "name": "python3",
      "display_name": "Python 3"
    },
    "language_info": {
      "name": "python"
    }
  },
  "cells": [
    {
      "cell_type": "code",
      "metadata": {
        "id": "_HJ4DqO03DzY"
      },
      "source": [
        "import numpy as np\n",
        "import pandas as pd"
      ],
      "execution_count": null,
      "outputs": []
    },
    {
      "cell_type": "code",
      "metadata": {
        "colab": {
          "base_uri": "https://localhost:8080/",
          "height": 204
        },
        "id": "tbzPuFLV3tof",
        "outputId": "2ec2dc5f-6504-4b07-cb6f-3fbd2de3ff47"
      },
      "source": [
        "data = pd.read_csv(\"/content/Social_Network_Ads (1).csv\")\n",
        "data.head()"
      ],
      "execution_count": null,
      "outputs": [
        {
          "output_type": "execute_result",
          "data": {
            "text/html": [
              "<div>\n",
              "<style scoped>\n",
              "    .dataframe tbody tr th:only-of-type {\n",
              "        vertical-align: middle;\n",
              "    }\n",
              "\n",
              "    .dataframe tbody tr th {\n",
              "        vertical-align: top;\n",
              "    }\n",
              "\n",
              "    .dataframe thead th {\n",
              "        text-align: right;\n",
              "    }\n",
              "</style>\n",
              "<table border=\"1\" class=\"dataframe\">\n",
              "  <thead>\n",
              "    <tr style=\"text-align: right;\">\n",
              "      <th></th>\n",
              "      <th>User ID</th>\n",
              "      <th>Gender</th>\n",
              "      <th>Age</th>\n",
              "      <th>EstimatedSalary</th>\n",
              "      <th>Purchased</th>\n",
              "    </tr>\n",
              "  </thead>\n",
              "  <tbody>\n",
              "    <tr>\n",
              "      <th>0</th>\n",
              "      <td>15624510</td>\n",
              "      <td>Male</td>\n",
              "      <td>19</td>\n",
              "      <td>19000</td>\n",
              "      <td>0</td>\n",
              "    </tr>\n",
              "    <tr>\n",
              "      <th>1</th>\n",
              "      <td>15810944</td>\n",
              "      <td>Male</td>\n",
              "      <td>35</td>\n",
              "      <td>20000</td>\n",
              "      <td>0</td>\n",
              "    </tr>\n",
              "    <tr>\n",
              "      <th>2</th>\n",
              "      <td>15668575</td>\n",
              "      <td>Female</td>\n",
              "      <td>26</td>\n",
              "      <td>43000</td>\n",
              "      <td>0</td>\n",
              "    </tr>\n",
              "    <tr>\n",
              "      <th>3</th>\n",
              "      <td>15603246</td>\n",
              "      <td>Female</td>\n",
              "      <td>27</td>\n",
              "      <td>57000</td>\n",
              "      <td>0</td>\n",
              "    </tr>\n",
              "    <tr>\n",
              "      <th>4</th>\n",
              "      <td>15804002</td>\n",
              "      <td>Male</td>\n",
              "      <td>19</td>\n",
              "      <td>76000</td>\n",
              "      <td>0</td>\n",
              "    </tr>\n",
              "  </tbody>\n",
              "</table>\n",
              "</div>"
            ],
            "text/plain": [
              "    User ID  Gender  Age  EstimatedSalary  Purchased\n",
              "0  15624510    Male   19            19000          0\n",
              "1  15810944    Male   35            20000          0\n",
              "2  15668575  Female   26            43000          0\n",
              "3  15603246  Female   27            57000          0\n",
              "4  15804002    Male   19            76000          0"
            ]
          },
          "metadata": {
            "tags": []
          },
          "execution_count": 20
        }
      ]
    },
    {
      "cell_type": "code",
      "metadata": {
        "id": "EAQFT_yO6Kh9",
        "colab": {
          "base_uri": "https://localhost:8080/"
        },
        "outputId": "b9bf3110-424e-4cc3-832f-460e5adcd7f2"
      },
      "source": [
        "data.isnull().sum()"
      ],
      "execution_count": null,
      "outputs": [
        {
          "output_type": "execute_result",
          "data": {
            "text/plain": [
              "User ID            0\n",
              "Gender             0\n",
              "Age                0\n",
              "EstimatedSalary    0\n",
              "Purchased          0\n",
              "dtype: int64"
            ]
          },
          "metadata": {
            "tags": []
          },
          "execution_count": 21
        }
      ]
    },
    {
      "cell_type": "code",
      "metadata": {
        "id": "5P8BWDzY31Fm"
      },
      "source": [
        "x = data.iloc[:,[2,3]].values\n",
        "y = data.iloc[:,4]"
      ],
      "execution_count": null,
      "outputs": []
    },
    {
      "cell_type": "code",
      "metadata": {
        "id": "9qMzgghl4KUF"
      },
      "source": [
        "from sklearn.model_selection import train_test_split\n",
        "x_train,x_test,y_train,y_test = train_test_split(x,y,test_size=0.2,random_state=30)\n"
      ],
      "execution_count": null,
      "outputs": []
    },
    {
      "cell_type": "code",
      "metadata": {
        "id": "VuH3r_mE4iU5"
      },
      "source": [
        "from sklearn.preprocessing import StandardScaler\n",
        "sc = StandardScaler()\n",
        "x_train = sc.fit_transform(x_train)\n",
        "x_test =sc.transform(x_test)"
      ],
      "execution_count": null,
      "outputs": []
    },
    {
      "cell_type": "code",
      "metadata": {
        "id": "vXRZO4Ax6SLJ",
        "colab": {
          "base_uri": "https://localhost:8080/"
        },
        "outputId": "ea1c9ef1-c8c0-4713-efce-76ed707dca24"
      },
      "source": [
        "x_train.shape"
      ],
      "execution_count": null,
      "outputs": [
        {
          "output_type": "execute_result",
          "data": {
            "text/plain": [
              "(320, 2)"
            ]
          },
          "metadata": {
            "tags": []
          },
          "execution_count": 25
        }
      ]
    },
    {
      "cell_type": "code",
      "metadata": {
        "id": "Rto_i8Rk6VE4",
        "colab": {
          "base_uri": "https://localhost:8080/"
        },
        "outputId": "a112d08f-4722-4313-98ce-7b990ef1762e"
      },
      "source": [
        "y_train.shape"
      ],
      "execution_count": null,
      "outputs": [
        {
          "output_type": "execute_result",
          "data": {
            "text/plain": [
              "(320,)"
            ]
          },
          "metadata": {
            "tags": []
          },
          "execution_count": 26
        }
      ]
    },
    {
      "cell_type": "code",
      "metadata": {
        "id": "0F_Upl9r6YWC",
        "colab": {
          "base_uri": "https://localhost:8080/"
        },
        "outputId": "f9942780-91a8-4db0-bcc1-a88094cd93b6"
      },
      "source": [
        "from sklearn.neighbors import KNeighborsClassifier\n",
        "KNN = KNeighborsClassifier(n_neighbors= 5 , metric= \"minkowski\" )\n",
        "KNN.fit(x_train,y_train)"
      ],
      "execution_count": null,
      "outputs": [
        {
          "output_type": "execute_result",
          "data": {
            "text/plain": [
              "KNeighborsClassifier(algorithm='auto', leaf_size=30, metric='minkowski',\n",
              "                     metric_params=None, n_jobs=None, n_neighbors=5, p=2,\n",
              "                     weights='uniform')"
            ]
          },
          "metadata": {
            "tags": []
          },
          "execution_count": 27
        }
      ]
    },
    {
      "cell_type": "code",
      "metadata": {
        "id": "BQb2ece69slN",
        "colab": {
          "base_uri": "https://localhost:8080/"
        },
        "outputId": "8d03bc80-7096-41f9-bfc0-8662a7e06335"
      },
      "source": [
        "x_train.shape"
      ],
      "execution_count": null,
      "outputs": [
        {
          "output_type": "execute_result",
          "data": {
            "text/plain": [
              "(320, 2)"
            ]
          },
          "metadata": {
            "tags": []
          },
          "execution_count": 28
        }
      ]
    },
    {
      "cell_type": "code",
      "metadata": {
        "id": "cHN4RlCu9wCu",
        "colab": {
          "base_uri": "https://localhost:8080/"
        },
        "outputId": "e0101db3-2c73-42b7-cace-1f7302b9a1bb"
      },
      "source": [
        "y_train.shape"
      ],
      "execution_count": null,
      "outputs": [
        {
          "output_type": "execute_result",
          "data": {
            "text/plain": [
              "(320,)"
            ]
          },
          "metadata": {
            "tags": []
          },
          "execution_count": 29
        }
      ]
    },
    {
      "cell_type": "code",
      "metadata": {
        "id": "svatiP_974Lv",
        "colab": {
          "base_uri": "https://localhost:8080/"
        },
        "outputId": "fca8856d-25a2-4bd3-c8be-6b2128a84ec7"
      },
      "source": [
        "y_pred = KNN.predict(x_test)\n",
        "print(\"predicted value:\",y_pred)"
      ],
      "execution_count": null,
      "outputs": [
        {
          "output_type": "stream",
          "text": [
            "predicted value: [0 1 0 0 0 0 0 1 0 0 0 0 0 0 0 0 0 0 1 1 0 0 0 1 0 0 1 1 1 0 0 1 1 0 0 1 0\n",
            " 1 1 0 0 1 0 1 0 0 0 0 0 1 0 0 0 0 0 1 1 1 0 0 1 0 0 1 0 0 0 1 0 0 0 0 1 1\n",
            " 0 0 1 0 1 1]\n"
          ],
          "name": "stdout"
        }
      ]
    },
    {
      "cell_type": "code",
      "metadata": {
        "id": "6dcOfXHD8a9w",
        "colab": {
          "base_uri": "https://localhost:8080/"
        },
        "outputId": "e8c414ab-1a85-42bf-9195-c073c92c292f"
      },
      "source": [
        "from sklearn.metrics import confusion_matrix\n",
        "cm = confusion_matrix(y_test,y_pred)\n",
        "print(cm)\n"
      ],
      "execution_count": null,
      "outputs": [
        {
          "output_type": "stream",
          "text": [
            "[[49  0]\n",
            " [ 4 27]]\n"
          ],
          "name": "stdout"
        }
      ]
    },
    {
      "cell_type": "code",
      "metadata": {
        "id": "wpQvA1X8VxND",
        "colab": {
          "base_uri": "https://localhost:8080/"
        },
        "outputId": "46743e71-943e-437d-f385-c4b9affd1b4d"
      },
      "source": [
        "from sklearn.metrics import accuracy_score\n",
        "accuracy_knn = accuracy_score(y_test,y_pred)\n",
        "print(\"accuracy:\",accuracy_knn)"
      ],
      "execution_count": null,
      "outputs": [
        {
          "output_type": "stream",
          "text": [
            "accuracy: 0.95\n"
          ],
          "name": "stdout"
        }
      ]
    },
    {
      "cell_type": "markdown",
      "metadata": {
        "id": "6b2MvNDI-j5_"
      },
      "source": [
        "KNN using Salary data set"
      ]
    },
    {
      "cell_type": "code",
      "metadata": {
        "id": "1NMuGwul-pa7"
      },
      "source": [
        ""
      ],
      "execution_count": null,
      "outputs": []
    },
    {
      "cell_type": "markdown",
      "metadata": {
        "id": "O-GpjcXqQ2PB"
      },
      "source": [
        "SVM"
      ]
    },
    {
      "cell_type": "code",
      "metadata": {
        "id": "VuSIPfLQQ4EI",
        "colab": {
          "base_uri": "https://localhost:8080/"
        },
        "outputId": "679e90af-706f-4e38-e2ea-b7042a5e1d6e"
      },
      "source": [
        "import numpy as np\n",
        "import pandas as pd\n",
        "data=pd.read_csv(\"/content/Social_Network_Ads (1).csv\")\n",
        "data.head()\n",
        "x=data.iloc[:,[2,3]].values\n",
        "y = data.iloc[:,4].values\n",
        "from sklearn.model_selection import train_test_split\n",
        "x_train,x_test,y_train,y_test=train_test_split(x,y,test_size=0.2,random_state=23)\n",
        "from sklearn.preprocessing import StandardScaler\n",
        "sc = StandardScaler()\n",
        "x_train = sc.fit_transform(x_train)\n",
        "x_test = sc.transform(x_test)\n",
        "from sklearn.svm import SVC\n",
        "svc = SVC()#default kernel = \"rbf\"\n",
        "svc.fit(x_train,y_train)\n",
        "svc_pred = svc.predict(x_test)\n",
        "print(svc_pred)\n",
        "from sklearn.metrics import confusion_matrix\n",
        "cm = confusion_matrix(y_test,svc_pred)\n",
        "print(cm)\n",
        "#accuracy\n",
        "from sklearn.metrics import accuracy_score\n",
        "accuracy_SVM = accuracy_score(y_test,svc_pred)\n",
        "print(\"accuracy:\",accuracy_SVM)"
      ],
      "execution_count": null,
      "outputs": [
        {
          "output_type": "stream",
          "text": [
            "[0 1 0 0 1 0 1 1 1 1 0 1 0 0 0 1 1 0 1 0 0 0 0 0 0 0 0 0 1 1 0 0 0 1 1 0 0\n",
            " 0 1 0 1 0 1 0 1 1 1 0 1 1 0 0 0 0 0 1 1 0 1 1 0 0 1 1 0 0 1 0 0 0 1 0 0 0\n",
            " 1 0 0 1 1 0]\n",
            "[[45  5]\n",
            " [ 2 28]]\n",
            "accuracy: 0.9125\n"
          ],
          "name": "stdout"
        }
      ]
    },
    {
      "cell_type": "markdown",
      "metadata": {
        "id": "5nvK53-JZXXB"
      },
      "source": [
        "by using kernals in svm"
      ]
    },
    {
      "cell_type": "code",
      "metadata": {
        "colab": {
          "base_uri": "https://localhost:8080/"
        },
        "id": "gYi9CbcAZa2s",
        "outputId": "9285347a-c944-4d9d-cd86-55a18593040f"
      },
      "source": [
        "#kernel = linear\n",
        "from sklearn.svm import SVC\n",
        "svc = SVC(kernel= 'linear')\n",
        "svc.fit(x_train,y_train)\n",
        "#predict the test results\n",
        "svc_pred = svc.predict(x_test)\n",
        "print(svc_pred)\n",
        "#confusion matrix\n",
        "from sklearn.metrics import confusion_matrix\n",
        "cm = confusion_matrix(y_test,svc_pred)\n",
        "print(cm)\n",
        "#accuracy\n",
        "from sklearn.metrics import accuracy_score\n",
        "acc_score = accuracy_score(y_test,svc_pred)\n",
        "acc_score"
      ],
      "execution_count": null,
      "outputs": [
        {
          "output_type": "stream",
          "text": [
            "[0 1 0 0 1 0 1 1 1 0 0 1 0 0 0 0 1 0 1 0 0 0 0 0 0 0 0 0 0 1 0 0 0 1 0 1 0\n",
            " 0 0 0 0 0 0 0 1 0 1 0 1 1 0 0 0 0 0 1 0 0 0 1 0 0 0 1 0 0 1 0 0 0 1 0 0 0\n",
            " 1 0 0 1 1 0]\n",
            "[[47  3]\n",
            " [10 20]]\n"
          ],
          "name": "stdout"
        },
        {
          "output_type": "execute_result",
          "data": {
            "text/plain": [
              "0.8375"
            ]
          },
          "metadata": {
            "tags": []
          },
          "execution_count": 39
        }
      ]
    },
    {
      "cell_type": "code",
      "metadata": {
        "colab": {
          "base_uri": "https://localhost:8080/"
        },
        "id": "DovqHmR_Za8x",
        "outputId": "fe812d94-a2fb-407f-f71f-aa21a91367ad"
      },
      "source": [
        "#kernel = sigmoid\n",
        "from sklearn.svm import SVC\n",
        "svc = SVC(kernel= 'sigmoid')\n",
        "svc.fit(x_train,y_train)\n",
        "#predict the test results\n",
        "svc_pred = svc.predict(x_test)\n",
        "print(svc_pred)\n",
        "#confusion matrix\n",
        "from sklearn.metrics import confusion_matrix\n",
        "cm = confusion_matrix(y_test,svc_pred)\n",
        "print(cm)\n",
        "#accuracy\n",
        "from sklearn.metrics import accuracy_score\n",
        "acc_score = accuracy_score(y_test,svc_pred)\n",
        "acc_score\n"
      ],
      "execution_count": null,
      "outputs": [
        {
          "output_type": "stream",
          "text": [
            "[0 0 0 1 0 1 0 0 0 1 0 1 1 0 1 0 0 1 0 0 0 0 0 0 0 1 0 0 1 0 0 1 0 1 0 0 0\n",
            " 0 1 0 0 0 0 0 0 1 0 1 0 0 1 1 0 0 0 0 1 0 1 0 1 0 1 0 0 1 0 1 0 1 0 0 1 0\n",
            " 0 0 0 0 0 0]\n",
            "[[35 15]\n",
            " [21  9]]\n"
          ],
          "name": "stdout"
        },
        {
          "output_type": "execute_result",
          "data": {
            "text/plain": [
              "0.55"
            ]
          },
          "metadata": {
            "tags": []
          },
          "execution_count": 43
        }
      ]
    },
    {
      "cell_type": "code",
      "metadata": {
        "colab": {
          "base_uri": "https://localhost:8080/"
        },
        "id": "AI2jZbGbb3ZG",
        "outputId": "5189f96a-1965-4cfb-8d57-012cdced46e5"
      },
      "source": [
        "#kernel = \"poly\"\n",
        "from sklearn.svm import SVC\n",
        "svc = SVC(kernel= 'poly')\n",
        "svc.fit(x_train,y_train)\n",
        "#predict the test results\n",
        "svc_pred = svc.predict(x_test)\n",
        "print(svc_pred)\n",
        "#confusion matrix\n",
        "from sklearn.metrics import confusion_matrix\n",
        "cm = confusion_matrix(y_test,svc_pred)\n",
        "print(cm)\n",
        "#accuracy\n",
        "from sklearn.metrics import accuracy_score\n",
        "acc_score = accuracy_score(y_test,svc_pred)\n",
        "acc_score"
      ],
      "execution_count": null,
      "outputs": [
        {
          "output_type": "stream",
          "text": [
            "[0 1 0 0 1 0 0 1 0 0 0 0 0 0 0 1 1 0 0 0 0 0 0 0 0 0 0 0 0 1 0 0 0 0 1 0 0\n",
            " 0 0 0 1 0 1 0 1 0 1 0 1 0 0 0 0 0 0 0 0 0 0 1 0 0 0 0 0 0 1 0 0 0 0 0 0 0\n",
            " 1 0 0 1 0 0]\n",
            "[[46  4]\n",
            " [18 12]]\n"
          ],
          "name": "stdout"
        },
        {
          "output_type": "execute_result",
          "data": {
            "text/plain": [
              "0.725"
            ]
          },
          "metadata": {
            "tags": []
          },
          "execution_count": 45
        }
      ]
    },
    {
      "cell_type": "markdown",
      "metadata": {
        "id": "JLsJ7pD8dnD-"
      },
      "source": [
        "#decision Tree Classifier"
      ]
    },
    {
      "cell_type": "code",
      "metadata": {
        "colab": {
          "base_uri": "https://localhost:8080/"
        },
        "id": "6yLjIQ2Hb3dc",
        "outputId": "702e4176-6de4-4078-8931-0dcb173ab1b4"
      },
      "source": [
        "import numpy as np\n",
        "import pandas as pd\n",
        "data = pd.read_csv(\"/content/Social_Network_Ads (1).csv\")\n",
        "data.head()\n",
        "x = data.iloc[:,[2,3]].values\n",
        "y =data.iloc[:,4].values\n",
        "#test train split\n",
        "from sklearn.model_selection import train_test_split\n",
        "x_train,x_test,y_train,y_test = train_test_split(x,y,test_size = 0.2,random_state = 43)\n",
        "from sklearn.preprocessing import StandardScaler\n",
        "sc = StandardScaler()\n",
        "x_train = sc.fit_transform(x_train)\n",
        "x_test = sc.transform(x_test)\n",
        "#model\n",
        "from sklearn.tree import DecisionTreeClassifier\n",
        "DT = DecisionTreeClassifier()\n",
        "DT.fit(x_train,y_train)\n",
        "#predict\n",
        "DT_pred = DT.predict(x_test)\n",
        "print(DT_pred)\n",
        "#cm\n",
        "from sklearn.metrics import confusion_matrix, accuracy_score\n",
        "cm = confusion_matrix(y_test,DT_pred)\n",
        "print(cm)\n",
        "#accuracy\n",
        "acc_score = accuracy_score(y_test,DT_pred)\n",
        "acc_score\n"
      ],
      "execution_count": null,
      "outputs": [
        {
          "output_type": "stream",
          "text": [
            "[0 1 1 0 1 0 1 0 1 0 0 0 0 0 1 1 0 1 1 0 1 1 1 0 1 0 0 1 0 1 0 1 0 1 0 0 1\n",
            " 1 0 1 0 1 0 1 0 0 0 1 0 0 0 1 1 1 1 1 0 0 1 0 0 0 1 0 0 0 0 0 0 0 1 0 1 0\n",
            " 0 0 0 1 1 0]\n",
            "[[43  7]\n",
            " [ 3 27]]\n"
          ],
          "name": "stdout"
        },
        {
          "output_type": "execute_result",
          "data": {
            "text/plain": [
              "0.875"
            ]
          },
          "metadata": {
            "tags": []
          },
          "execution_count": 56
        }
      ]
    },
    {
      "cell_type": "markdown",
      "metadata": {
        "id": "mjfApyt6hlsU"
      },
      "source": [
        "Random forest classifier"
      ]
    },
    {
      "cell_type": "code",
      "metadata": {
        "colab": {
          "base_uri": "https://localhost:8080/"
        },
        "id": "w2JWzFpLgwhx",
        "outputId": "7596ad64-49df-429f-8156-39e6294d3695"
      },
      "source": [
        "import pandas as pd\n",
        "import numpy as np\n",
        "data = pd.read_csv(\"/content/Social_Network_Ads (1).csv\")\n",
        "data.head()\n",
        "x = data.iloc[:,[2,3]].values\n",
        "y = data.iloc[:,4].values\n",
        "from sklearn.model_selection import train_test_split\n",
        "x_train,x_test,y_train,y_test =  train_test_split(x,y,test_size=0.2,random_state=34)\n",
        "from sklearn.preprocessing import StandardScaler\n",
        "sc= StandardScaler()\n",
        "x_train = sc.fit_transform(x_train)\n",
        "x_test = sc.transform(x_test)\n",
        "from sklearn.ensemble import RandomForestClassifier\n",
        "RF = RandomForestClassifier(n_estimators = 10,criterion = 'entropy')\n",
        "RF.fit(x_train,y_train)\n",
        "#predict\n",
        "RF_pred = RF.predict(x_test)\n",
        "print(RF_pred)\n",
        "#cm\n",
        "from sklearn.metrics import confusion_matrix,accuracy_score\n",
        "cm = confusion_matrix(y_test,RF_pred)\n",
        "print(cm)\n",
        "#accuracy\n",
        "Acc_score = accuracy_score(y_test,RF_pred)\n",
        "print(Acc_score)"
      ],
      "execution_count": null,
      "outputs": [
        {
          "output_type": "stream",
          "text": [
            "[0 0 1 1 1 0 0 1 1 0 1 1 0 1 0 0 0 0 0 0 1 0 1 1 0 0 0 1 0 0 1 1 1 0 0 0 0\n",
            " 1 1 0 1 1 0 0 1 0 0 0 0 1 0 0 1 1 0 0 0 1 1 0 0 1 0 0 0 1 1 0 0 1 0 0 0 0\n",
            " 0 1 0 0 0 0]\n",
            "[[43  6]\n",
            " [ 7 24]]\n",
            "0.8375\n"
          ],
          "name": "stdout"
        }
      ]
    }
  ]
}